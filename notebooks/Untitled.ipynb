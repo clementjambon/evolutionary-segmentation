{
 "cells": [
  {
   "cell_type": "code",
   "execution_count": null,
   "id": "5121a05b",
   "metadata": {},
   "outputs": [],
   "source": [
    "import numpy as np\n",
    "import scipy\n",
    "import matplotlib.pyplot as plt\n",
    "from tqdm import tqdm\n",
    "import cv2\n",
    "import os"
   ]
  },
  {
   "cell_type": "code",
   "execution_count": null,
   "id": "37dc01c6",
   "metadata": {},
   "outputs": [],
   "source": [
    "BERKELEY_TRAIN_PATH = \"../data/BSDS300/images/train\"\n",
    "BERKELEY_TRAIN_IMG_PATHS = [os.path.join(BERKELEY_TRAIN_PATH, f) for f in os.listdir(BERKELEY_TRAIN_PATH) if os.path.isfile(os.path.join(BERKELEY_TRAIN_PATH, f))]"
   ]
  },
  {
   "cell_type": "code",
   "execution_count": null,
   "id": "87ff00c8",
   "metadata": {},
   "outputs": [],
   "source": [
    "def load_img(img_path, scale_factor: int = 8, target_color_space=cv2.COLOR_BGR2LAB):\n",
    "    \"\"\"\n",
    "    Input: image path and downscale factor\n",
    "    Output: downscaled rgb image, flattened image in target color space, H, W\n",
    "    \"\"\"\n",
    "    img_bgr = cv2.imread(img_path)\n",
    "    H, W = img_bgr.shape[:2]\n",
    "    \n",
    "    # Convert to rgb\n",
    "    img_rgb = cv2.cvtColor(img_bgr, cv2.COLOR_BGR2RGB)\n",
    "    \n",
    "    # Downscale image\n",
    "    img_bgr = cv2.resize(img_bgr, (W // scale_factor, H // scale_factor))\n",
    "    H, W = img_bgr.shape[:2]\n",
    "    \n",
    "    # Convert image to target\n",
    "    img_target = cv2.cvtColor(img_bgr, target_color_space)\n",
    "    \n",
    "    print(f\"Loaded image {img_path} with final size ({H}, {W})\")\n",
    "    return img_rgb, img_target.reshape(-1, 3), H, W"
   ]
  },
  {
   "cell_type": "code",
   "execution_count": null,
   "id": "9e304041",
   "metadata": {},
   "outputs": [],
   "source": [
    "def rgb_gaussian_similarity(img, sigma=250, diag_value=0):\n",
    "    dist = scipy.spatial.distance_matrix(img, img)\n",
    "    A = np.exp(-dist**2/sigma**2)\n",
    "    np.fill_diagonal(A, diag_value)\n",
    "    return A\n",
    "\n",
    "def extract_clusters(X, population_threshold=1e-6):\n",
    "    \"\"\"\n",
    "    Extracts the clusters based on the provided threshold and returns the selected RELATIVE ids\n",
    "    \"\"\"\n",
    "    return np.nonzero(X > population_threshold)"
   ]
  },
  {
   "cell_type": "code",
   "execution_count": null,
   "id": "39e88a25",
   "metadata": {},
   "outputs": [],
   "source": [
    "def best_response_update(A, X, t):\n",
    "    \"\"\"\n",
    "    Input: similarity matrix A, strategy distribution X, time step t \n",
    "    Output: new distribution of strategies X_{t+1} according to best response dynamics\n",
    "    \"\"\"\n",
    "    # Compute payoff\n",
    "    payoff = A@X\n",
    "    best_id = np.argmax(payoff)\n",
    "    best_vector = np.zeros(len(X))\n",
    "    best_vector[best_id] = 1.\n",
    "    # Update population according to best response dynamics\n",
    "    return (best_vector - X) / (t + 1) + X"
   ]
  },
  {
   "cell_type": "code",
   "execution_count": null,
   "id": "8bed1c0f",
   "metadata": {},
   "outputs": [],
   "source": [
    "def cluster_game(img, algorithm=best_response_update, similarity=rgb_gaussian_similarity, max_segments=10, max_iter=1000):\n",
    "    segment_trajectories = []\n",
    "    cluster_indices = []\n",
    "    max_segments = 10\n",
    "\n",
    "    # Initialize color array (with all pixels)\n",
    "    C = img.copy()\n",
    "    # Initialize array of indices to keep track of pixels as we prune things from segments to segments\n",
    "    PID = np.arange(len(C))\n",
    "\n",
    "    for segment in range(max_segments):\n",
    "        # Set the new number of objects for this segment\n",
    "        n = len(C)\n",
    "        if n == 0:\n",
    "            break\n",
    "        # Initialize population and similarity matrix\n",
    "        X = 1. / n *  np.ones(n)\n",
    "#         print(C.shape)\n",
    "        A = similarity(C)\n",
    "\n",
    "        trajectories = [X]\n",
    "\n",
    "        # TODO: stop iteration if we reach a threshold\n",
    "        for t in range(1, max_iter+1):\n",
    "            # Update population according to best response dynamics\n",
    "            X = algorithm(A, X, t)\n",
    "            # Store the current state in the trajectory\n",
    "            trajectories.append(X.copy())\n",
    "\n",
    "        # Collect clusters   \n",
    "        new_clusters = extract_clusters(X)\n",
    "        cluster_indices.append(PID[new_clusters])\n",
    "        # Update feature and id matrices\n",
    "        C = np.delete(C, new_clusters, axis=0)\n",
    "        PID = np.delete(PID, new_clusters)\n",
    "\n",
    "        # Store segment trajectory\n",
    "        segment_trajectories.append(trajectories)\n",
    "\n",
    "    return cluster_indices, segment_trajectories"
   ]
  },
  {
   "cell_type": "code",
   "execution_count": null,
   "id": "715e3f51",
   "metadata": {},
   "outputs": [],
   "source": [
    "def compute_average_colors(img, cluster_indices):\n",
    "    # For each clusters, compute the average color\n",
    "    avg_img = np.zeros_like(img)\n",
    "    for cluster in cluster_indices:\n",
    "        avg_img[cluster] = np.average(img[cluster], axis=0)\n",
    "    return avg_img\n",
    "\n",
    "def compute_support_img(img_target, cluster_indices):\n",
    "    support = np.zeros(len(img_lab))\n",
    "    for i_cluster, cluster in enumerate(cluster_indices):\n",
    "        support[cluster] = i_cluster + 1\n",
    "    return support"
   ]
  },
  {
   "cell_type": "markdown",
   "id": "c617a4fe",
   "metadata": {},
   "source": [
    "## Best response dynamics"
   ]
  },
  {
   "cell_type": "code",
   "execution_count": null,
   "id": "6e0b7996",
   "metadata": {},
   "outputs": [],
   "source": [
    "trajectories = np.array(segment_trajectories[0])\n",
    "plt.figure()\n",
    "for i in range(trajectories.shape[1]):\n",
    "    plt.plot(np.arange(0, n_iter + 1), trajectories[:, i])\n",
    "ax = plt.gca()\n",
    "ax.set_ylim([0., 0.1])"
   ]
  },
  {
   "cell_type": "code",
   "execution_count": null,
   "id": "e3baf047",
   "metadata": {},
   "outputs": [],
   "source": [
    "img_rgb, img_target, H, W = load_img(BERKELEY_TRAIN_IMG_PATHS[3])\n",
    "cluster_indices, segment_trajectories = cluster_game(img_target)"
   ]
  },
  {
   "cell_type": "code",
   "execution_count": null,
   "id": "8242b9ee",
   "metadata": {},
   "outputs": [],
   "source": [
    "support = compute_support_img(img_target, cluster_indices)\n",
    "support = support.reshape(H, W)\n",
    "\n",
    "avg_img = compute_average_colors(img_target, cluster_indices)\n",
    "avg_img = avg_img.reshape(H, W, 3)\n",
    "avg_img = cv2.cvtColor(avg_img, cv2.COLOR_LAB2RGB)\n",
    "\n",
    "fig, axs = plt.subplots(1, 3, figsize=(10, 5))\n",
    "axs[0].imshow(img_rgb)\n",
    "axs[1].imshow(support)\n",
    "axs[2].imshow(avg_img)"
   ]
  },
  {
   "cell_type": "code",
   "execution_count": null,
   "id": "f8988b53",
   "metadata": {},
   "outputs": [],
   "source": [
    "for img_path in BERKELEY_TRAIN_IMG_PATHS:\n",
    "    img_rgb, img_target, H, W = load_img(img_path)\n",
    "    cluster_indices, segment_trajectories = cluster_game(img_target)\n",
    "    \n",
    "    support = compute_support_img(img_target, cluster_indices)\n",
    "    support = support.reshape(H, W)\n",
    "\n",
    "    avg_img = compute_average_colors(img_target, cluster_indices)\n",
    "    avg_img = avg_img.reshape(H, W, 3)\n",
    "    avg_img = cv2.cvtColor(avg_img, cv2.COLOR_LAB2RGB)\n",
    "    \n",
    "    plt.figure()\n",
    "    fig, axs = plt.subplots(1, 3, figsize=(10, 5))\n",
    "    axs[0].imshow(img_rgb)\n",
    "    axs[1].imshow(support)\n",
    "    axs[2].imshow(avg_img)\n",
    "    plt.show()"
   ]
  },
  {
   "cell_type": "markdown",
   "id": "ec31cd37",
   "metadata": {},
   "source": [
    "## Replicator dynamics"
   ]
  },
  {
   "cell_type": "code",
   "execution_count": null,
   "id": "2befa1ed",
   "metadata": {},
   "outputs": [],
   "source": [
    "def replicator_dynamics_update(A, X, t, kappa=0.):\n",
    "    \"\"\"\n",
    "    Input: similarity matrix A, strategy distribution X, time step t \n",
    "    Output: new distribution of strategies X_{t+1} according to best response dynamics\n",
    "    \"\"\"\n",
    "    # Compute payoff\n",
    "    payoff = A@X\n",
    "    # Expected payoff\n",
    "    expected_payoff = X.T@payoff\n",
    "    # Update population according to replicator dynamics\n",
    "    X_new = X*(payoff + kappa) / (expected_payoff + kappa)\n",
    "    return X_new"
   ]
  },
  {
   "cell_type": "code",
   "execution_count": null,
   "id": "5918b800",
   "metadata": {},
   "outputs": [],
   "source": [
    "similarity_rd = lambda x: rgb_gaussian_similarity(x, sigma=250) \n",
    "img_rgb, img_target, H, W = load_img(BERKELEY_TRAIN_IMG_PATHS[70])\n",
    "cluster_indices, segment_trajectories = cluster_game(img_target, algorithm=replicator_dynamics_update, similarity=similarity_rd)"
   ]
  },
  {
   "cell_type": "code",
   "execution_count": null,
   "id": "056fc08c",
   "metadata": {},
   "outputs": [],
   "source": [
    "support = compute_support_img(img_target, cluster_indices)\n",
    "support = support.reshape(H, W)\n",
    "\n",
    "avg_img = compute_average_colors(img_target, cluster_indices)\n",
    "avg_img = avg_img.reshape(H, W, 3)\n",
    "avg_img = cv2.cvtColor(avg_img, cv2.COLOR_LAB2RGB)\n",
    "\n",
    "fig, axs = plt.subplots(1, 3, figsize=(10, 5))\n",
    "axs[0].imshow(img_rgb)\n",
    "axs[1].imshow(support)\n",
    "axs[2].imshow(avg_img)"
   ]
  },
  {
   "cell_type": "code",
   "execution_count": null,
   "id": "d19428a8",
   "metadata": {},
   "outputs": [],
   "source": [
    "for img_path in BERKELEY_TRAIN_IMG_PATHS:\n",
    "    img_rgb, img_target, H, W = load_img(img_path)\n",
    "    cluster_indices, segment_trajectories = cluster_game(img_target, algorithm=replicator_dynamics_update, similarity=similarity_rd)\n",
    "    \n",
    "    support = compute_support_img(img_target, cluster_indices)\n",
    "    support = support.reshape(H, W)\n",
    "\n",
    "    avg_img = compute_average_colors(img_target, cluster_indices)\n",
    "    avg_img = avg_img.reshape(H, W, 3)\n",
    "    avg_img = cv2.cvtColor(avg_img, cv2.COLOR_LAB2RGB)\n",
    "    \n",
    "    plt.figure()\n",
    "    fig, axs = plt.subplots(1, 3, figsize=(10, 5))\n",
    "    axs[0].imshow(img_rgb)\n",
    "    axs[1].imshow(support)\n",
    "    axs[2].imshow(avg_img)\n",
    "    plt.show()"
   ]
  },
  {
   "cell_type": "markdown",
   "id": "17bfc82c",
   "metadata": {},
   "source": [
    "## Infection and immunization dynamics"
   ]
  },
  {
   "cell_type": "code",
   "execution_count": null,
   "id": "8adad83d",
   "metadata": {},
   "outputs": [],
   "source": [
    "def replicator_dynamics_update(A, X, t, kappa=0.):\n",
    "    \"\"\"\n",
    "    Input: similarity matrix A, strategy distribution X, time step t \n",
    "    Output: new distribution of strategies X_{t+1} according to best response dynamics\n",
    "    \"\"\"\n",
    "    # Compute payoff\n",
    "    payoff = A@X\n",
    "    # Expected payoff\n",
    "    expected_payoff = X.T@payoff\n",
    "    # Update population according to replicator dynamics\n",
    "    X_new = X*(payoff + kappa) / (expected_payoff + kappa)\n",
    "    return X_new"
   ]
  }
 ],
 "metadata": {
  "kernelspec": {
   "display_name": "Python 3 (ipykernel)",
   "language": "python",
   "name": "python3"
  },
  "language_info": {
   "codemirror_mode": {
    "name": "ipython",
    "version": 3
   },
   "file_extension": ".py",
   "mimetype": "text/x-python",
   "name": "python",
   "nbconvert_exporter": "python",
   "pygments_lexer": "ipython3",
   "version": "3.10.11"
  }
 },
 "nbformat": 4,
 "nbformat_minor": 5
}
