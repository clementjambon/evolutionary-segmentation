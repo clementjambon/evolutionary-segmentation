{
 "cells": [
  {
   "cell_type": "code",
   "execution_count": null,
   "id": "5121a05b",
   "metadata": {},
   "outputs": [],
   "source": [
    "import numpy as np\n",
    "import scipy\n",
    "import matplotlib.pyplot as plt\n",
    "from tqdm import tqdm\n",
    "import cv2\n",
    "import os"
   ]
  },
  {
   "cell_type": "code",
   "execution_count": null,
   "id": "1b08ce58",
   "metadata": {},
   "outputs": [],
   "source": [
    "BERKELEY_TRAIN_PATH = \"../data/BSDS300/images/train\"\n",
    "BERKELEY_TRAIN_IMG_PATHS = [os.path.join(BERKELEY_TRAIN_PATH, f) for f in os.listdir(BERKELEY_TRAIN_PATH) if os.path.isfile(os.path.join(BERKELEY_TRAIN_PATH, f))]\n",
    "BERKELEY_TEST_PATH = \"../data/BSDS300/images/test\"\n",
    "BERKELEY_TEST_IMG_PATHS = [os.path.join(BERKELEY_TEST_PATH, f) for f in os.listdir(BERKELEY_TEST_PATH) if os.path.isfile(os.path.join(BERKELEY_TEST_PATH, f))]"
   ]
  },
  {
   "cell_type": "code",
   "execution_count": null,
   "id": "174753bd",
   "metadata": {},
   "outputs": [],
   "source": [
    "def load_img(img_path, scale_factor: int = 1, target_color_space=cv2.COLOR_BGR2LAB):\n",
    "    \"\"\"\n",
    "    Input: image path and downscale factor\n",
    "    Output: downscaled rgb image, flattened image in target color space, H, W\n",
    "    \"\"\"\n",
    "    img_bgr = cv2.imread(img_path)\n",
    "    H, W = img_bgr.shape[:2]\n",
    "    \n",
    "    # Convert to rgb\n",
    "    img_rgb = cv2.cvtColor(img_bgr, cv2.COLOR_BGR2RGB)\n",
    "    \n",
    "    # Downscale image\n",
    "    img_bgr = cv2.resize(img_bgr, (W // scale_factor, H // scale_factor))\n",
    "    H, W = img_bgr.shape[:2]\n",
    "    \n",
    "    # Convert image to target\n",
    "    img_target = cv2.cvtColor(img_bgr, target_color_space)\n",
    "    \n",
    "    print(f\"Loaded image {img_path} with final size ({H}, {W})\")\n",
    "    return img_rgb, img_target.reshape(-1, 3), H, W"
   ]
  },
  {
   "cell_type": "code",
   "execution_count": null,
   "id": "13e5792b",
   "metadata": {},
   "outputs": [],
   "source": [
    "def rgb_gaussian_similarity(x, y, sigma=250, diag_value=0):\n",
    "    dist = scipy.spatial.distance_matrix(x, y)\n",
    "    A = np.exp(-dist**2/sigma**2)\n",
    "    if diag_value is not None:\n",
    "        np.fill_diagonal(A, diag_value)\n",
    "    return A\n",
    "\n",
    "def extract_clusters(X, population_threshold=1e-6):\n",
    "    \"\"\"\n",
    "    Extracts the clusters based on the provided threshold and returns the selected RELATIVE ids\n",
    "    \"\"\"\n",
    "    return np.nonzero(X > population_threshold)"
   ]
  },
  {
   "cell_type": "code",
   "execution_count": null,
   "id": "85a8341b",
   "metadata": {},
   "outputs": [],
   "source": [
    "def best_response_update(A, X, t, g, expected_payoff, r):\n",
    "    \"\"\"\n",
    "    Input: similarity matrix A, strategy distribution X, time step t \n",
    "    Output: new distribution of strategies X_{t+1} according to best response dynamics\n",
    "    \"\"\"\n",
    "    best_id = np.argmax(g)\n",
    "    best_vector = np.zeros(len(X))\n",
    "    best_vector[best_id] = 1.\n",
    "    # Update population according to best response dynamics\n",
    "    return (best_vector - X) / (t + 1) + X"
   ]
  },
  {
   "cell_type": "code",
   "execution_count": null,
   "id": "34d57cc1",
   "metadata": {},
   "outputs": [],
   "source": [
    "def random_sampling(PID, p=0.01):\n",
    "    n = len(PID)\n",
    "    k = int(n*p)\n",
    "    in_samples = np.sort(np.random.choice(PID, k, replace=False))\n",
    "    out_samples = np.setdiff1d(PID, in_samples)\n",
    "    return in_samples, out_samples"
   ]
  },
  {
   "cell_type": "code",
   "execution_count": null,
   "id": "c6cc71e3",
   "metadata": {},
   "outputs": [],
   "source": [
    "def cluster_game(img, algorithm=best_response_update, similarity=rgb_gaussian_similarity, sampling_alg=random_sampling, max_segments=10, max_iter=5000, nash_tol=1e-3):\n",
    "    segment_trajectories = []\n",
    "    cluster_indices = []\n",
    "    out_cluster_indices = []\n",
    "    \n",
    "    eps_square = nash_tol**2\n",
    "\n",
    "    # Initialize color array (with all pixels)\n",
    "    C = img.copy()\n",
    "    # Initialize array of indices to keep track of pixels as we prune things from segments to segments\n",
    "    PID = np.arange(len(C))\n",
    "    \n",
    "    # Extract subset of pixels according to the sampling algorithm\n",
    "    PID, out_PID = sampling_alg(PID)\n",
    "    out_C = C[out_PID]\n",
    "    C = C[PID]\n",
    "\n",
    "    for segment in range(max_segments):\n",
    "        # Set the new number of objects for this segment\n",
    "        n = len(C)\n",
    "        if n == 0:\n",
    "            break\n",
    "        # Initialize population and similarity matrix\n",
    "        X = 1. / n *  np.ones(n)\n",
    "        print(C.shape)\n",
    "        A = similarity(C, C)\n",
    "\n",
    "        trajectories = [X]\n",
    "\n",
    "        # TODO: stop iteration if we reach a threshold\n",
    "        for t in range(1, max_iter+1):\n",
    "            g = A@X\n",
    "            expected_payoff = X.T@g\n",
    "            r = g - expected_payoff*np.ones(X.shape[0])\n",
    "            if np.sum(np.minimum(X, -r)**2) <= eps_square:\n",
    "#                 print(t)\n",
    "                break\n",
    "            # Update population according to best response dynamics\n",
    "            X = algorithm(A, X, t, g, expected_payoff, r)\n",
    "            # Store the current state in the trajectory\n",
    "            trajectories.append(X.copy())\n",
    "\n",
    "        # Collect clusters   \n",
    "        new_clusters = extract_clusters(X)\n",
    "        cluster_indices.append(PID[new_clusters])\n",
    "        \n",
    "        # Collect clusters among out of sample\n",
    "        cluster_X = X[new_clusters]\n",
    "        cluster_C = C[new_clusters]\n",
    "        cluster_A = similarity(out_C, cluster_C, diag_value=None)\n",
    "        w_Si = cluster_A@cluster_X \n",
    "        expected_payoff = X.T@A@X\n",
    "        out_new_clusters = np.nonzero(w_Si > expected_payoff)[0]\n",
    "        print(out_new_clusters.shape)\n",
    "        out_cluster_indices.append(out_PID[out_new_clusters])\n",
    "        out_C = np.delete(out_C, out_new_clusters, axis=0)\n",
    "        out_PID = np.delete(out_PID, out_new_clusters)\n",
    "        \n",
    "        cluster_indices[-1] = np.union1d(cluster_indices[-1], out_cluster_indices[-1])\n",
    "        \n",
    "        # Update feature and id matrices\n",
    "        C = np.delete(C, new_clusters, axis=0)\n",
    "        PID = np.delete(PID, new_clusters)\n",
    "\n",
    "        # Store segment trajectory\n",
    "        segment_trajectories.append(trajectories)\n",
    "        \n",
    "    # Add the remaining pixels to one cluster (if not all allocated)\n",
    "    if len(PID) > 0 or len(out_PID) > 0:\n",
    "        cluster_indices.append(PID)\n",
    "        out_cluster_indices.append(out_PID)\n",
    "        cluster_indices[-1] = np.union1d(cluster_indices[-1], out_cluster_indices[-1])\n",
    "    \n",
    "    return cluster_indices, segment_trajectories"
   ]
  },
  {
   "cell_type": "code",
   "execution_count": null,
   "id": "f45f4073",
   "metadata": {},
   "outputs": [],
   "source": [
    "def compute_average_colors(img, cluster_indices):\n",
    "    # For each clusters, compute the average color\n",
    "    avg_img = np.zeros_like(img)\n",
    "    for cluster in cluster_indices:\n",
    "        avg_img[cluster] = np.average(img[cluster], axis=0)\n",
    "    return avg_img\n",
    "\n",
    "def compute_support_img(img_target, cluster_indices):\n",
    "    support = np.zeros(len(img_target))\n",
    "    for i_cluster, cluster in enumerate(cluster_indices):\n",
    "        support[cluster] = i_cluster + 1\n",
    "    return support"
   ]
  },
  {
   "cell_type": "markdown",
   "id": "b4468f64",
   "metadata": {},
   "source": [
    "## Best response dynamics"
   ]
  },
  {
   "cell_type": "code",
   "execution_count": null,
   "id": "2178eb1b",
   "metadata": {},
   "outputs": [],
   "source": [
    "img_rgb, img_target, H, W = load_img(BERKELEY_TRAIN_IMG_PATHS[3])\n",
    "cluster_indices, segment_trajectories = cluster_game(img_target)"
   ]
  },
  {
   "cell_type": "code",
   "execution_count": null,
   "id": "0e01cc7d",
   "metadata": {},
   "outputs": [],
   "source": [
    "support = compute_support_img(img_target, cluster_indices)\n",
    "support = support.reshape(H, W)\n",
    "\n",
    "avg_img = compute_average_colors(img_target, cluster_indices)\n",
    "avg_img = avg_img.reshape(H, W, 3)\n",
    "avg_img = cv2.cvtColor(avg_img, cv2.COLOR_LAB2RGB)\n",
    "\n",
    "fig, axs = plt.subplots(1, 3, figsize=(10, 5))\n",
    "axs[0].imshow(img_rgb)\n",
    "axs[1].imshow(support)\n",
    "axs[2].imshow(avg_img)"
   ]
  },
  {
   "cell_type": "code",
   "execution_count": null,
   "id": "385e51e7",
   "metadata": {},
   "outputs": [],
   "source": [
    "trajectories = np.array(segment_trajectories[0])\n",
    "plt.figure()\n",
    "for i in range(trajectories.shape[1]):\n",
    "    plt.plot(np.arange(0, n_iter + 1), trajectories[:, i])\n",
    "ax = plt.gca()\n",
    "ax.set_ylim([0., 0.1])"
   ]
  },
  {
   "cell_type": "code",
   "execution_count": null,
   "id": "9d2dbe8e",
   "metadata": {},
   "outputs": [],
   "source": [
    "for img_path in BERKELEY_TRAIN_IMG_PATHS:\n",
    "    img_rgb, img_target, H, W = load_img(img_path)\n",
    "    cluster_indices, segment_trajectories = cluster_game(img_target)\n",
    "    \n",
    "    support = compute_support_img(img_target, cluster_indices)\n",
    "    support = support.reshape(H, W)\n",
    "\n",
    "    avg_img = compute_average_colors(img_target, cluster_indices)\n",
    "    avg_img = avg_img.reshape(H, W, 3)\n",
    "    avg_img = cv2.cvtColor(avg_img, cv2.COLOR_LAB2RGB)\n",
    "    \n",
    "    plt.figure()\n",
    "    fig, axs = plt.subplots(1, 3, figsize=(10, 5))\n",
    "    axs[0].imshow(img_rgb)\n",
    "    axs[1].imshow(support)\n",
    "    axs[2].imshow(avg_img)\n",
    "    plt.show()"
   ]
  },
  {
   "cell_type": "markdown",
   "id": "5034448a",
   "metadata": {},
   "source": [
    "## Replicator dynamics"
   ]
  },
  {
   "cell_type": "code",
   "execution_count": null,
   "id": "12584b46",
   "metadata": {},
   "outputs": [],
   "source": [
    "def replicator_dynamics_update(A, X, t, g, expected_payoff, r, kappa=0.):\n",
    "    \"\"\"\n",
    "    Input: similarity matrix A, strategy distribution X, time step t \n",
    "    Output: new distribution of strategies X_{t+1} according to best response dynamics\n",
    "    \"\"\"\n",
    "    # Update population according to replicator dynamics\n",
    "    X_new = X*(g + kappa) / (expected_payoff + kappa)\n",
    "    return X_new"
   ]
  },
  {
   "cell_type": "code",
   "execution_count": null,
   "id": "40233668",
   "metadata": {},
   "outputs": [],
   "source": [
    "img_rgb, img_target, H, W = load_img(BERKELEY_TRAIN_IMG_PATHS[70])\n",
    "cluster_indices, segment_trajectories = cluster_game(img_target, algorithm=replicator_dynamics_update)"
   ]
  },
  {
   "cell_type": "code",
   "execution_count": null,
   "id": "8aa0785d",
   "metadata": {},
   "outputs": [],
   "source": [
    "support = compute_support_img(img_target, cluster_indices)\n",
    "support = support.reshape(H, W)\n",
    "\n",
    "avg_img = compute_average_colors(img_target, cluster_indices)\n",
    "avg_img = avg_img.reshape(H, W, 3)\n",
    "avg_img = cv2.cvtColor(avg_img, cv2.COLOR_LAB2RGB)\n",
    "\n",
    "fig, axs = plt.subplots(1, 3, figsize=(10, 5))\n",
    "axs[0].imshow(img_rgb)\n",
    "axs[1].imshow(support)\n",
    "axs[2].imshow(avg_img)"
   ]
  },
  {
   "cell_type": "code",
   "execution_count": null,
   "id": "133363d1",
   "metadata": {},
   "outputs": [],
   "source": [
    "for img_path in BERKELEY_TRAIN_IMG_PATHS:\n",
    "    img_rgb, img_target, H, W = load_img(img_path)\n",
    "    cluster_indices, segment_trajectories = cluster_game(img_target, algorithm=replicator_dynamics_update, similarity=similarity_rd)\n",
    "    \n",
    "    support = compute_support_img(img_target, cluster_indices)\n",
    "    support = support.reshape(H, W)\n",
    "\n",
    "    avg_img = compute_average_colors(img_target, cluster_indices)\n",
    "    avg_img = avg_img.reshape(H, W, 3)\n",
    "    avg_img = cv2.cvtColor(avg_img, cv2.COLOR_LAB2RGB)\n",
    "    \n",
    "    plt.figure()\n",
    "    fig, axs = plt.subplots(1, 3, figsize=(10, 5))\n",
    "    axs[0].imshow(img_rgb)\n",
    "    axs[1].imshow(support)\n",
    "    axs[2].imshow(avg_img)\n",
    "    plt.show()"
   ]
  },
  {
   "cell_type": "markdown",
   "id": "ba25f580",
   "metadata": {},
   "source": [
    "## Infection and immunization dynamics"
   ]
  },
  {
   "cell_type": "code",
   "execution_count": null,
   "id": "51d7c1c7",
   "metadata": {},
   "outputs": [],
   "source": [
    "def pure_inimdyn_update(A, X, t, g, expected_payoff, r, support_threshold=1e-6):\n",
    "    \"\"\"\n",
    "    Pure Infection and immunization dynamics\n",
    "    Input: similarity matrix A, strategy distribution X, time step t \n",
    "    Output: new distribution of strategies X_{t+1} according to best response dynamics\n",
    "    \"\"\"\n",
    "    # Compute argmax r_z\n",
    "    i = np.argmax(r)\n",
    "    # Compute argmin_{sigma_x} r_z\n",
    "    r_tmp = r.copy()\n",
    "    r_tmp[X <= support_threshold] = r.max()\n",
    "    j = np.argmin(r_tmp)\n",
    "    # Select actual index\n",
    "#     print(r[i])\n",
    "    if r[i] < -r[j]:\n",
    "        i = j    \n",
    "    # Compute the denominator of delta\n",
    "    den = A[i, i] - g[i] - r[i]\n",
    "    if r[i] > 0:\n",
    "        delta = 1\n",
    "        if den < 0:\n",
    "            delta = min(delta, -r[i]/den)\n",
    "    else:\n",
    "        delta = X[i] / (X[i] - 1)\n",
    "        if den < 0:\n",
    "            delta = max(delta, -r[i]/den)\n",
    "    # Update X\n",
    "    e_i = np.zeros(X.shape[0])\n",
    "    e_i[i] = 1.\n",
    "    X_new = delta*(e_i - X) + X\n",
    "    return X_new"
   ]
  },
  {
   "cell_type": "code",
   "execution_count": null,
   "id": "bc24e7f4",
   "metadata": {},
   "outputs": [],
   "source": [
    "img_rgb, img_target, H, W = load_img(BERKELEY_TRAIN_IMG_PATHS[70])\n",
    "cluster_indices, segment_trajectories = cluster_game(img_target, algorithm=pure_inimdyn_update)"
   ]
  },
  {
   "cell_type": "code",
   "execution_count": null,
   "id": "ad33d92d",
   "metadata": {},
   "outputs": [],
   "source": [
    "support = compute_support_img(img_target, cluster_indices)\n",
    "support = support.reshape(H, W)\n",
    "\n",
    "avg_img = compute_average_colors(img_target, cluster_indices)\n",
    "avg_img = avg_img.reshape(H, W, 3)\n",
    "avg_img = cv2.cvtColor(avg_img, cv2.COLOR_LAB2RGB)\n",
    "\n",
    "fig, axs = plt.subplots(1, 3, figsize=(12, 5))\n",
    "axs[0].imshow(img_rgb)\n",
    "axs[1].imshow(support)\n",
    "axs[2].imshow(avg_img)"
   ]
  },
  {
   "cell_type": "code",
   "execution_count": null,
   "id": "5f9083ed",
   "metadata": {},
   "outputs": [],
   "source": [
    "for img_path in BERKELEY_TRAIN_IMG_PATHS:\n",
    "    img_rgb, img_target, H, W = load_img(img_path)\n",
    "    cluster_indices, segment_trajectories = cluster_game(img_target, algorithm=pure_inimdyn_update)\n",
    "    \n",
    "    support = compute_support_img(img_target, cluster_indices)\n",
    "    support = support.reshape(H, W)\n",
    "\n",
    "    avg_img = compute_average_colors(img_target, cluster_indices)\n",
    "    avg_img = avg_img.reshape(H, W, 3)\n",
    "    avg_img = cv2.cvtColor(avg_img, cv2.COLOR_LAB2RGB)\n",
    "    \n",
    "    plt.figure()\n",
    "    fig, axs = plt.subplots(1, 3, figsize=(12, 5))\n",
    "    axs[0].imshow(img_rgb)\n",
    "    axs[1].imshow(support)\n",
    "    axs[2].imshow(avg_img)\n",
    "    plt.show()"
   ]
  },
  {
   "cell_type": "code",
   "execution_count": null,
   "id": "d2fbcfbe",
   "metadata": {},
   "outputs": [],
   "source": []
  }
 ],
 "metadata": {
  "kernelspec": {
   "display_name": "Python 3 (ipykernel)",
   "language": "python",
   "name": "python3"
  },
  "language_info": {
   "codemirror_mode": {
    "name": "ipython",
    "version": 3
   },
   "file_extension": ".py",
   "mimetype": "text/x-python",
   "name": "python",
   "nbconvert_exporter": "python",
   "pygments_lexer": "ipython3",
   "version": "3.10.11"
  }
 },
 "nbformat": 4,
 "nbformat_minor": 5
}
